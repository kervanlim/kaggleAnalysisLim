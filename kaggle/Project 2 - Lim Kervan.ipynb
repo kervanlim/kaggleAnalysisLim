{
 "cells": [
  {
   "cell_type": "markdown",
   "id": "c951cb3f-2acb-4431-a382-e0aaecdeddc9",
   "metadata": {},
   "source": [
    "# **Another Kaggle Project**"
   ]
  },
  {
   "cell_type": "markdown",
   "id": "69d92399-19ca-483d-9d61-01d2b2690264",
   "metadata": {},
   "source": [
    "The data set belongs to a leading online E-Commerce company (https://www.kaggle.com/datasets/ankitverma2010/ecommerce-customer-churn-analysis-and-prediction). An online retail (E commerce) company wants to know the customers **who are going to churn**, so accordingly they can approach customer to offer some promos.</br>\n",
    "**\"Churn\"** is a business term describing which customers leave or will stop paying for a product or service."
   ]
  },
  {
   "cell_type": "markdown",
   "id": "f2d69b5f-8846-4318-96ed-e576ad60d5ed",
   "metadata": {},
   "source": [
    "## **The Dataset**"
   ]
  },
  {
   "cell_type": "code",
   "execution_count": 1,
   "id": "c03e0119-80fb-4dd9-a78e-b8830789102c",
   "metadata": {},
   "outputs": [],
   "source": [
    "# import some library we need\n",
    "import pandas as pd\n",
    "import numpy as np\n",
    "import seaborn as sns\n",
    "import matplotlib.pyplot as plt\n",
    "import warnings as wn\n",
    "wn.filterwarnings('ignore')"
   ]
  },
  {
   "cell_type": "code",
   "execution_count": 2,
   "id": "3b066e33-90ec-464c-ac24-8a15f5e36c9c",
   "metadata": {},
   "outputs": [
    {
     "name": "stdout",
     "output_type": "stream",
     "text": [
      "This is the sample data:\n",
      "\n"
     ]
    },
    {
     "data": {
      "text/html": [
       "<div>\n",
       "<style scoped>\n",
       "    .dataframe tbody tr th:only-of-type {\n",
       "        vertical-align: middle;\n",
       "    }\n",
       "\n",
       "    .dataframe tbody tr th {\n",
       "        vertical-align: top;\n",
       "    }\n",
       "\n",
       "    .dataframe thead th {\n",
       "        text-align: right;\n",
       "    }\n",
       "</style>\n",
       "<table border=\"1\" class=\"dataframe\">\n",
       "  <thead>\n",
       "    <tr style=\"text-align: right;\">\n",
       "      <th></th>\n",
       "      <th>CustomerID</th>\n",
       "      <th>Churn</th>\n",
       "      <th>Tenure</th>\n",
       "      <th>PreferredLoginDevice</th>\n",
       "      <th>CityTier</th>\n",
       "      <th>WarehouseToHome</th>\n",
       "      <th>PreferredPaymentMode</th>\n",
       "      <th>Gender</th>\n",
       "      <th>HourSpendOnApp</th>\n",
       "      <th>NumberOfDeviceRegistered</th>\n",
       "      <th>PreferedOrderCat</th>\n",
       "      <th>SatisfactionScore</th>\n",
       "      <th>MaritalStatus</th>\n",
       "      <th>NumberOfAddress</th>\n",
       "      <th>Complain</th>\n",
       "      <th>OrderAmountHikeFromlastYear</th>\n",
       "      <th>CouponUsed</th>\n",
       "      <th>OrderCount</th>\n",
       "      <th>DaySinceLastOrder</th>\n",
       "      <th>CashbackAmount</th>\n",
       "    </tr>\n",
       "  </thead>\n",
       "  <tbody>\n",
       "    <tr>\n",
       "      <th>0</th>\n",
       "      <td>50001</td>\n",
       "      <td>1</td>\n",
       "      <td>4.0</td>\n",
       "      <td>Mobile Phone</td>\n",
       "      <td>3</td>\n",
       "      <td>6.0</td>\n",
       "      <td>Debit Card</td>\n",
       "      <td>Female</td>\n",
       "      <td>3.0</td>\n",
       "      <td>3</td>\n",
       "      <td>Laptop &amp; Accessory</td>\n",
       "      <td>2</td>\n",
       "      <td>Single</td>\n",
       "      <td>9</td>\n",
       "      <td>1</td>\n",
       "      <td>11.0</td>\n",
       "      <td>1.0</td>\n",
       "      <td>1.0</td>\n",
       "      <td>5.0</td>\n",
       "      <td>159.93</td>\n",
       "    </tr>\n",
       "    <tr>\n",
       "      <th>1</th>\n",
       "      <td>50002</td>\n",
       "      <td>1</td>\n",
       "      <td>NaN</td>\n",
       "      <td>Phone</td>\n",
       "      <td>1</td>\n",
       "      <td>8.0</td>\n",
       "      <td>UPI</td>\n",
       "      <td>Male</td>\n",
       "      <td>3.0</td>\n",
       "      <td>4</td>\n",
       "      <td>Mobile</td>\n",
       "      <td>3</td>\n",
       "      <td>Single</td>\n",
       "      <td>7</td>\n",
       "      <td>1</td>\n",
       "      <td>15.0</td>\n",
       "      <td>0.0</td>\n",
       "      <td>1.0</td>\n",
       "      <td>0.0</td>\n",
       "      <td>120.90</td>\n",
       "    </tr>\n",
       "    <tr>\n",
       "      <th>2</th>\n",
       "      <td>50003</td>\n",
       "      <td>1</td>\n",
       "      <td>NaN</td>\n",
       "      <td>Phone</td>\n",
       "      <td>1</td>\n",
       "      <td>30.0</td>\n",
       "      <td>Debit Card</td>\n",
       "      <td>Male</td>\n",
       "      <td>2.0</td>\n",
       "      <td>4</td>\n",
       "      <td>Mobile</td>\n",
       "      <td>3</td>\n",
       "      <td>Single</td>\n",
       "      <td>6</td>\n",
       "      <td>1</td>\n",
       "      <td>14.0</td>\n",
       "      <td>0.0</td>\n",
       "      <td>1.0</td>\n",
       "      <td>3.0</td>\n",
       "      <td>120.28</td>\n",
       "    </tr>\n",
       "    <tr>\n",
       "      <th>3</th>\n",
       "      <td>50004</td>\n",
       "      <td>1</td>\n",
       "      <td>0.0</td>\n",
       "      <td>Phone</td>\n",
       "      <td>3</td>\n",
       "      <td>15.0</td>\n",
       "      <td>Debit Card</td>\n",
       "      <td>Male</td>\n",
       "      <td>2.0</td>\n",
       "      <td>4</td>\n",
       "      <td>Laptop &amp; Accessory</td>\n",
       "      <td>5</td>\n",
       "      <td>Single</td>\n",
       "      <td>8</td>\n",
       "      <td>0</td>\n",
       "      <td>23.0</td>\n",
       "      <td>0.0</td>\n",
       "      <td>1.0</td>\n",
       "      <td>3.0</td>\n",
       "      <td>134.07</td>\n",
       "    </tr>\n",
       "    <tr>\n",
       "      <th>4</th>\n",
       "      <td>50005</td>\n",
       "      <td>1</td>\n",
       "      <td>0.0</td>\n",
       "      <td>Phone</td>\n",
       "      <td>1</td>\n",
       "      <td>12.0</td>\n",
       "      <td>CC</td>\n",
       "      <td>Male</td>\n",
       "      <td>NaN</td>\n",
       "      <td>3</td>\n",
       "      <td>Mobile</td>\n",
       "      <td>5</td>\n",
       "      <td>Single</td>\n",
       "      <td>3</td>\n",
       "      <td>0</td>\n",
       "      <td>11.0</td>\n",
       "      <td>1.0</td>\n",
       "      <td>1.0</td>\n",
       "      <td>3.0</td>\n",
       "      <td>129.60</td>\n",
       "    </tr>\n",
       "  </tbody>\n",
       "</table>\n",
       "</div>"
      ],
      "text/plain": [
       "   CustomerID  Churn  Tenure PreferredLoginDevice  CityTier  WarehouseToHome  \\\n",
       "0       50001      1     4.0         Mobile Phone         3              6.0   \n",
       "1       50002      1     NaN                Phone         1              8.0   \n",
       "2       50003      1     NaN                Phone         1             30.0   \n",
       "3       50004      1     0.0                Phone         3             15.0   \n",
       "4       50005      1     0.0                Phone         1             12.0   \n",
       "\n",
       "  PreferredPaymentMode  Gender  HourSpendOnApp  NumberOfDeviceRegistered  \\\n",
       "0           Debit Card  Female             3.0                         3   \n",
       "1                  UPI    Male             3.0                         4   \n",
       "2           Debit Card    Male             2.0                         4   \n",
       "3           Debit Card    Male             2.0                         4   \n",
       "4                   CC    Male             NaN                         3   \n",
       "\n",
       "     PreferedOrderCat  SatisfactionScore MaritalStatus  NumberOfAddress  \\\n",
       "0  Laptop & Accessory                  2        Single                9   \n",
       "1              Mobile                  3        Single                7   \n",
       "2              Mobile                  3        Single                6   \n",
       "3  Laptop & Accessory                  5        Single                8   \n",
       "4              Mobile                  5        Single                3   \n",
       "\n",
       "   Complain  OrderAmountHikeFromlastYear  CouponUsed  OrderCount  \\\n",
       "0         1                         11.0         1.0         1.0   \n",
       "1         1                         15.0         0.0         1.0   \n",
       "2         1                         14.0         0.0         1.0   \n",
       "3         0                         23.0         0.0         1.0   \n",
       "4         0                         11.0         1.0         1.0   \n",
       "\n",
       "   DaySinceLastOrder  CashbackAmount  \n",
       "0                5.0          159.93  \n",
       "1                0.0          120.90  \n",
       "2                3.0          120.28  \n",
       "3                3.0          134.07  \n",
       "4                3.0          129.60  "
      ]
     },
     "execution_count": 2,
     "metadata": {},
     "output_type": "execute_result"
    }
   ],
   "source": [
    "xls = pd.ExcelFile('E Commerce Dataset.xlsx')\n",
    "df = pd.read_excel(xls, sheet_name='E Comm') #read the file using pandas library\n",
    "print('This is the sample data:\\n')\n",
    "df.head(5)"
   ]
  },
  {
   "cell_type": "code",
   "execution_count": 3,
   "id": "04659334-a240-43f0-bea4-ffd8100567d7",
   "metadata": {},
   "outputs": [
    {
     "data": {
      "text/plain": [
       "3.0"
      ]
     },
     "execution_count": 3,
     "metadata": {},
     "output_type": "execute_result"
    }
   ],
   "source": [
    "df['HourSpendOnApp'].mode()[0]"
   ]
  },
  {
   "cell_type": "markdown",
   "id": "6429d63d-27df-4de9-9659-ac6709a0fd28",
   "metadata": {},
   "source": [
    "We'll do some exploration in our data, so we can know what is the best thing we can use and fix"
   ]
  },
  {
   "cell_type": "markdown",
   "id": "af41ccda-5330-4bb8-b879-b9bb2d163aa2",
   "metadata": {},
   "source": [
    "## **EDA**"
   ]
  },
  {
   "cell_type": "markdown",
   "id": "6dff7fff-d348-43da-8a04-b21a824a3261",
   "metadata": {},
   "source": [
    "Exploratory Data Analysis (EDA) is an analyzing process to understand the characteristics of the data and things that we need to do so the data can be used for the model learning process.\n",
    "When doing EDA, we need to know exactly:\n",
    " - the Distribution of our data and our target\n",
    " - the Preparation before we train our data to ML model\n",
    " - the Appropriate and important features"
   ]
  },
  {
   "cell_type": "code",
   "execution_count": 4,
   "id": "7e6341d3-5b34-4579-a788-19e91c284181",
   "metadata": {},
   "outputs": [
    {
     "name": "stdout",
     "output_type": "stream",
     "text": [
      "<class 'pandas.core.frame.DataFrame'>\n",
      "RangeIndex: 5630 entries, 0 to 5629\n",
      "Data columns (total 20 columns):\n",
      " #   Column                       Non-Null Count  Dtype  \n",
      "---  ------                       --------------  -----  \n",
      " 0   CustomerID                   5630 non-null   int64  \n",
      " 1   Churn                        5630 non-null   int64  \n",
      " 2   Tenure                       5366 non-null   float64\n",
      " 3   PreferredLoginDevice         5630 non-null   object \n",
      " 4   CityTier                     5630 non-null   int64  \n",
      " 5   WarehouseToHome              5379 non-null   float64\n",
      " 6   PreferredPaymentMode         5630 non-null   object \n",
      " 7   Gender                       5630 non-null   object \n",
      " 8   HourSpendOnApp               5375 non-null   float64\n",
      " 9   NumberOfDeviceRegistered     5630 non-null   int64  \n",
      " 10  PreferedOrderCat             5630 non-null   object \n",
      " 11  SatisfactionScore            5630 non-null   int64  \n",
      " 12  MaritalStatus                5630 non-null   object \n",
      " 13  NumberOfAddress              5630 non-null   int64  \n",
      " 14  Complain                     5630 non-null   int64  \n",
      " 15  OrderAmountHikeFromlastYear  5365 non-null   float64\n",
      " 16  CouponUsed                   5374 non-null   float64\n",
      " 17  OrderCount                   5372 non-null   float64\n",
      " 18  DaySinceLastOrder            5323 non-null   float64\n",
      " 19  CashbackAmount               5630 non-null   float64\n",
      "dtypes: float64(8), int64(7), object(5)\n",
      "memory usage: 879.8+ KB\n"
     ]
    }
   ],
   "source": [
    "df.info() #Checking the dtype and if there are any missing values."
   ]
  },
  {
   "cell_type": "markdown",
   "id": "62cf2227-366b-428a-ba49-7eee5c76422b",
   "metadata": {},
   "source": [
    "As we can see, there are some columns that contains **null** value. And there are many **categorical** features, we can use this information to choose our model, later."
   ]
  },
  {
   "cell_type": "code",
   "execution_count": 5,
   "id": "a09cdcae-cda4-434b-bef5-744d757ffa2f",
   "metadata": {},
   "outputs": [],
   "source": [
    "# Here we seperate any numerical and categorical value. \n",
    "# Even though there are some categorical feature that have numeric dtype, \n",
    "# we also can see the insight from it.\n",
    "cats = df.select_dtypes(include=['object']).columns\n",
    "nums = df.select_dtypes(exclude=['object']).columns\n",
    "nums = nums.drop('CustomerID') #dropping this feature because iirelevant"
   ]
  },
  {
   "cell_type": "markdown",
   "id": "874ad634-5034-4de6-8e09-d61a6a8c82d6",
   "metadata": {},
   "source": [
    "We'll going to see some categorical feature, we'll check if there is redundant values in categorical feature."
   ]
  },
  {
   "cell_type": "code",
   "execution_count": 6,
   "id": "0da34a31-ab06-4191-93e1-167ded58d77c",
   "metadata": {},
   "outputs": [
    {
     "data": {
      "text/html": [
       "<div>\n",
       "<style scoped>\n",
       "    .dataframe tbody tr th:only-of-type {\n",
       "        vertical-align: middle;\n",
       "    }\n",
       "\n",
       "    .dataframe tbody tr th {\n",
       "        vertical-align: top;\n",
       "    }\n",
       "\n",
       "    .dataframe thead th {\n",
       "        text-align: right;\n",
       "    }\n",
       "</style>\n",
       "<table border=\"1\" class=\"dataframe\">\n",
       "  <thead>\n",
       "    <tr style=\"text-align: right;\">\n",
       "      <th></th>\n",
       "      <th>PreferredLoginDevice</th>\n",
       "      <th>PreferredPaymentMode</th>\n",
       "      <th>Gender</th>\n",
       "      <th>PreferedOrderCat</th>\n",
       "      <th>MaritalStatus</th>\n",
       "    </tr>\n",
       "  </thead>\n",
       "  <tbody>\n",
       "    <tr>\n",
       "      <th>count</th>\n",
       "      <td>5630</td>\n",
       "      <td>5630</td>\n",
       "      <td>5630</td>\n",
       "      <td>5630</td>\n",
       "      <td>5630</td>\n",
       "    </tr>\n",
       "    <tr>\n",
       "      <th>unique</th>\n",
       "      <td>3</td>\n",
       "      <td>7</td>\n",
       "      <td>2</td>\n",
       "      <td>6</td>\n",
       "      <td>3</td>\n",
       "    </tr>\n",
       "    <tr>\n",
       "      <th>top</th>\n",
       "      <td>Mobile Phone</td>\n",
       "      <td>Debit Card</td>\n",
       "      <td>Male</td>\n",
       "      <td>Laptop &amp; Accessory</td>\n",
       "      <td>Married</td>\n",
       "    </tr>\n",
       "    <tr>\n",
       "      <th>freq</th>\n",
       "      <td>2765</td>\n",
       "      <td>2314</td>\n",
       "      <td>3384</td>\n",
       "      <td>2050</td>\n",
       "      <td>2986</td>\n",
       "    </tr>\n",
       "  </tbody>\n",
       "</table>\n",
       "</div>"
      ],
      "text/plain": [
       "       PreferredLoginDevice PreferredPaymentMode Gender    PreferedOrderCat  \\\n",
       "count                  5630                 5630   5630                5630   \n",
       "unique                    3                    7      2                   6   \n",
       "top            Mobile Phone           Debit Card   Male  Laptop & Accessory   \n",
       "freq                   2765                 2314   3384                2050   \n",
       "\n",
       "       MaritalStatus  \n",
       "count           5630  \n",
       "unique             3  \n",
       "top          Married  \n",
       "freq            2986  "
      ]
     },
     "execution_count": 6,
     "metadata": {},
     "output_type": "execute_result"
    }
   ],
   "source": [
    "df[cats].describe()"
   ]
  },
  {
   "cell_type": "code",
   "execution_count": 7,
   "id": "ae6edaec-690c-4ac1-b6f1-2a1bdd67f415",
   "metadata": {},
   "outputs": [
    {
     "name": "stdout",
     "output_type": "stream",
     "text": [
      "PreferredLoginDevice values:\n",
      "['Mobile Phone' 'Phone' 'Computer']\n",
      "PreferredPaymentMode values:\n",
      "['Debit Card' 'UPI' 'CC' 'Cash on Delivery' 'E wallet' 'COD' 'Credit Card']\n",
      "Gender values:\n",
      "['Female' 'Male']\n",
      "PreferedOrderCat values:\n",
      "['Laptop & Accessory' 'Mobile' 'Mobile Phone' 'Others' 'Fashion' 'Grocery']\n",
      "MaritalStatus values:\n",
      "['Single' 'Divorced' 'Married']\n"
     ]
    }
   ],
   "source": [
    "for i in cats:\n",
    "    print('{} values:'.format(i))\n",
    "    print(df[i].unique())"
   ]
  },
  {
   "cell_type": "markdown",
   "id": "d603efff-51dc-4807-9075-569583863bd5",
   "metadata": {},
   "source": [
    "As we can see here, there are some values that have the same meaning, for example in PreferredLoginDevice we have **\"Mobile Phone\"** == **\"Phone\"**, also PreferredPaymentMode we have **\"Cash on Delivery\"** == **\"COD\"** and **\"Credit Card\"** == **\"CC\"**.\n",
    "We can fix this using feature engineering."
   ]
  },
  {
   "cell_type": "markdown",
   "id": "ce2b67e9-2c60-4332-a618-12f3f4fcd84f",
   "metadata": {},
   "source": [
    "We're done checking categorical feature. We'll move to numerical feature"
   ]
  },
  {
   "cell_type": "code",
   "execution_count": 8,
   "id": "5fdd61df-9fc5-4bf9-b979-3783535983b2",
   "metadata": {},
   "outputs": [
    {
     "data": {
      "text/html": [
       "<div>\n",
       "<style scoped>\n",
       "    .dataframe tbody tr th:only-of-type {\n",
       "        vertical-align: middle;\n",
       "    }\n",
       "\n",
       "    .dataframe tbody tr th {\n",
       "        vertical-align: top;\n",
       "    }\n",
       "\n",
       "    .dataframe thead th {\n",
       "        text-align: right;\n",
       "    }\n",
       "</style>\n",
       "<table border=\"1\" class=\"dataframe\">\n",
       "  <thead>\n",
       "    <tr style=\"text-align: right;\">\n",
       "      <th></th>\n",
       "      <th>Churn</th>\n",
       "      <th>Tenure</th>\n",
       "      <th>CityTier</th>\n",
       "      <th>WarehouseToHome</th>\n",
       "      <th>HourSpendOnApp</th>\n",
       "      <th>NumberOfDeviceRegistered</th>\n",
       "      <th>SatisfactionScore</th>\n",
       "      <th>NumberOfAddress</th>\n",
       "      <th>Complain</th>\n",
       "      <th>OrderAmountHikeFromlastYear</th>\n",
       "      <th>CouponUsed</th>\n",
       "      <th>OrderCount</th>\n",
       "      <th>DaySinceLastOrder</th>\n",
       "      <th>CashbackAmount</th>\n",
       "    </tr>\n",
       "  </thead>\n",
       "  <tbody>\n",
       "    <tr>\n",
       "      <th>count</th>\n",
       "      <td>5630.000000</td>\n",
       "      <td>5366.000000</td>\n",
       "      <td>5630.000000</td>\n",
       "      <td>5379.000000</td>\n",
       "      <td>5375.000000</td>\n",
       "      <td>5630.000000</td>\n",
       "      <td>5630.000000</td>\n",
       "      <td>5630.000000</td>\n",
       "      <td>5630.000000</td>\n",
       "      <td>5365.000000</td>\n",
       "      <td>5374.000000</td>\n",
       "      <td>5372.000000</td>\n",
       "      <td>5323.000000</td>\n",
       "      <td>5630.000000</td>\n",
       "    </tr>\n",
       "    <tr>\n",
       "      <th>mean</th>\n",
       "      <td>0.168384</td>\n",
       "      <td>10.189899</td>\n",
       "      <td>1.654707</td>\n",
       "      <td>15.639896</td>\n",
       "      <td>2.931535</td>\n",
       "      <td>3.688988</td>\n",
       "      <td>3.066785</td>\n",
       "      <td>4.214032</td>\n",
       "      <td>0.284902</td>\n",
       "      <td>15.707922</td>\n",
       "      <td>1.751023</td>\n",
       "      <td>3.008004</td>\n",
       "      <td>4.543491</td>\n",
       "      <td>177.223030</td>\n",
       "    </tr>\n",
       "    <tr>\n",
       "      <th>std</th>\n",
       "      <td>0.374240</td>\n",
       "      <td>8.557241</td>\n",
       "      <td>0.915389</td>\n",
       "      <td>8.531475</td>\n",
       "      <td>0.721926</td>\n",
       "      <td>1.023999</td>\n",
       "      <td>1.380194</td>\n",
       "      <td>2.583586</td>\n",
       "      <td>0.451408</td>\n",
       "      <td>3.675485</td>\n",
       "      <td>1.894621</td>\n",
       "      <td>2.939680</td>\n",
       "      <td>3.654433</td>\n",
       "      <td>49.207036</td>\n",
       "    </tr>\n",
       "    <tr>\n",
       "      <th>min</th>\n",
       "      <td>0.000000</td>\n",
       "      <td>0.000000</td>\n",
       "      <td>1.000000</td>\n",
       "      <td>5.000000</td>\n",
       "      <td>0.000000</td>\n",
       "      <td>1.000000</td>\n",
       "      <td>1.000000</td>\n",
       "      <td>1.000000</td>\n",
       "      <td>0.000000</td>\n",
       "      <td>11.000000</td>\n",
       "      <td>0.000000</td>\n",
       "      <td>1.000000</td>\n",
       "      <td>0.000000</td>\n",
       "      <td>0.000000</td>\n",
       "    </tr>\n",
       "    <tr>\n",
       "      <th>25%</th>\n",
       "      <td>0.000000</td>\n",
       "      <td>2.000000</td>\n",
       "      <td>1.000000</td>\n",
       "      <td>9.000000</td>\n",
       "      <td>2.000000</td>\n",
       "      <td>3.000000</td>\n",
       "      <td>2.000000</td>\n",
       "      <td>2.000000</td>\n",
       "      <td>0.000000</td>\n",
       "      <td>13.000000</td>\n",
       "      <td>1.000000</td>\n",
       "      <td>1.000000</td>\n",
       "      <td>2.000000</td>\n",
       "      <td>145.770000</td>\n",
       "    </tr>\n",
       "    <tr>\n",
       "      <th>50%</th>\n",
       "      <td>0.000000</td>\n",
       "      <td>9.000000</td>\n",
       "      <td>1.000000</td>\n",
       "      <td>14.000000</td>\n",
       "      <td>3.000000</td>\n",
       "      <td>4.000000</td>\n",
       "      <td>3.000000</td>\n",
       "      <td>3.000000</td>\n",
       "      <td>0.000000</td>\n",
       "      <td>15.000000</td>\n",
       "      <td>1.000000</td>\n",
       "      <td>2.000000</td>\n",
       "      <td>3.000000</td>\n",
       "      <td>163.280000</td>\n",
       "    </tr>\n",
       "    <tr>\n",
       "      <th>75%</th>\n",
       "      <td>0.000000</td>\n",
       "      <td>16.000000</td>\n",
       "      <td>3.000000</td>\n",
       "      <td>20.000000</td>\n",
       "      <td>3.000000</td>\n",
       "      <td>4.000000</td>\n",
       "      <td>4.000000</td>\n",
       "      <td>6.000000</td>\n",
       "      <td>1.000000</td>\n",
       "      <td>18.000000</td>\n",
       "      <td>2.000000</td>\n",
       "      <td>3.000000</td>\n",
       "      <td>7.000000</td>\n",
       "      <td>196.392500</td>\n",
       "    </tr>\n",
       "    <tr>\n",
       "      <th>max</th>\n",
       "      <td>1.000000</td>\n",
       "      <td>61.000000</td>\n",
       "      <td>3.000000</td>\n",
       "      <td>127.000000</td>\n",
       "      <td>5.000000</td>\n",
       "      <td>6.000000</td>\n",
       "      <td>5.000000</td>\n",
       "      <td>22.000000</td>\n",
       "      <td>1.000000</td>\n",
       "      <td>26.000000</td>\n",
       "      <td>16.000000</td>\n",
       "      <td>16.000000</td>\n",
       "      <td>46.000000</td>\n",
       "      <td>324.990000</td>\n",
       "    </tr>\n",
       "  </tbody>\n",
       "</table>\n",
       "</div>"
      ],
      "text/plain": [
       "             Churn       Tenure     CityTier  WarehouseToHome  HourSpendOnApp  \\\n",
       "count  5630.000000  5366.000000  5630.000000      5379.000000     5375.000000   \n",
       "mean      0.168384    10.189899     1.654707        15.639896        2.931535   \n",
       "std       0.374240     8.557241     0.915389         8.531475        0.721926   \n",
       "min       0.000000     0.000000     1.000000         5.000000        0.000000   \n",
       "25%       0.000000     2.000000     1.000000         9.000000        2.000000   \n",
       "50%       0.000000     9.000000     1.000000        14.000000        3.000000   \n",
       "75%       0.000000    16.000000     3.000000        20.000000        3.000000   \n",
       "max       1.000000    61.000000     3.000000       127.000000        5.000000   \n",
       "\n",
       "       NumberOfDeviceRegistered  SatisfactionScore  NumberOfAddress  \\\n",
       "count               5630.000000        5630.000000      5630.000000   \n",
       "mean                   3.688988           3.066785         4.214032   \n",
       "std                    1.023999           1.380194         2.583586   \n",
       "min                    1.000000           1.000000         1.000000   \n",
       "25%                    3.000000           2.000000         2.000000   \n",
       "50%                    4.000000           3.000000         3.000000   \n",
       "75%                    4.000000           4.000000         6.000000   \n",
       "max                    6.000000           5.000000        22.000000   \n",
       "\n",
       "          Complain  OrderAmountHikeFromlastYear   CouponUsed   OrderCount  \\\n",
       "count  5630.000000                  5365.000000  5374.000000  5372.000000   \n",
       "mean      0.284902                    15.707922     1.751023     3.008004   \n",
       "std       0.451408                     3.675485     1.894621     2.939680   \n",
       "min       0.000000                    11.000000     0.000000     1.000000   \n",
       "25%       0.000000                    13.000000     1.000000     1.000000   \n",
       "50%       0.000000                    15.000000     1.000000     2.000000   \n",
       "75%       1.000000                    18.000000     2.000000     3.000000   \n",
       "max       1.000000                    26.000000    16.000000    16.000000   \n",
       "\n",
       "       DaySinceLastOrder  CashbackAmount  \n",
       "count        5323.000000     5630.000000  \n",
       "mean            4.543491      177.223030  \n",
       "std             3.654433       49.207036  \n",
       "min             0.000000        0.000000  \n",
       "25%             2.000000      145.770000  \n",
       "50%             3.000000      163.280000  \n",
       "75%             7.000000      196.392500  \n",
       "max            46.000000      324.990000  "
      ]
     },
     "execution_count": 8,
     "metadata": {},
     "output_type": "execute_result"
    }
   ],
   "source": [
    "df[nums].describe()"
   ]
  },
  {
   "cell_type": "markdown",
   "id": "f4f0f3c5-4337-4619-a779-1d23de39e1af",
   "metadata": {},
   "source": [
    "If we look at our numerical features, there are several columns whose distribution looks **abnormal**, for example like WarehouseToHome feature, mean > median represents **Positive Skewed**. I will use **univariate analysis** to visualize the distribution of the data more detail."
   ]
  },
  {
   "cell_type": "code",
   "execution_count": 9,
   "id": "ee0a5308-fb36-436b-9013-73a970deb8b3",
   "metadata": {},
   "outputs": [
    {
     "data": {
      "text/plain": [
       "0    4682\n",
       "1     948\n",
       "Name: Churn, dtype: int64"
      ]
     },
     "execution_count": 9,
     "metadata": {},
     "output_type": "execute_result"
    }
   ],
   "source": [
    "df['Churn'].value_counts() # Checking our target to see if there is class imbalance"
   ]
  },
  {
   "cell_type": "markdown",
   "id": "24b2cf62-6b8d-40be-a01b-da1db55d662d",
   "metadata": {},
   "source": [
    "As we can see there is **class imbalance** in our target. This will affect our model when learning the data. We can fix it using *imblearn* library later"
   ]
  },
  {
   "cell_type": "markdown",
   "id": "91149bd5-0b0d-4727-b648-a87652446939",
   "metadata": {},
   "source": [
    "### **Univariate Analysis**"
   ]
  },
  {
   "cell_type": "markdown",
   "id": "81cf677f-a7fe-48c6-ba62-e5fdbad6b856",
   "metadata": {},
   "source": [
    "Univariate Analysis is a process to analyze each column separately, looking at data distribution in detail. "
   ]
  },
  {
   "cell_type": "code",
   "execution_count": 10,
   "id": "33ab89e5-c66d-49a8-bb92-7bd9b268c652",
   "metadata": {},
   "outputs": [
    {
     "data": {
      "image/png": "[encoded data removed]",
      "text/plain": [
       "<Figure size 1080x864 with 14 Axes>"
      ]
     },
     "metadata": {
      "needs_background": "light"
     },
     "output_type": "display_data"
    }
   ],
   "source": [
    "plt.figure(figsize=(15,12))\n",
    "\n",
    "for i in range(0, len(nums)):\n",
    "    plt.subplot(6,3,i+1)\n",
    "    sns.distplot(x=df[nums[i]])\n",
    "    plt.xlabel(nums[i])\n",
    "plt.suptitle('Distribution', fontsize=25)\n",
    "plt.tight_layout()"
   ]
  },
  {
   "cell_type": "markdown",
   "id": "7ca89ef4-d60f-4444-9cf9-224e79964f02",
   "metadata": {},
   "source": [
    "We can see almost all of the numerical features have abnormal distribution. We can use this information when we want to fill the null values and overcome the outlier."
   ]
  },
  {
   "cell_type": "markdown",
   "id": "f5dc7f9c-fc21-42bb-8617-74717f2f84cb",
   "metadata": {},
   "source": [
    "Now let's see if there are many outliers in numerical features."
   ]
  },
  {
   "cell_type": "code",
   "execution_count": 11,
   "id": "fd6a9d7c-93ea-4a4f-b758-185425ca9bd9",
   "metadata": {},
   "outputs": [
    {
     "data": {
      "image/png": "[encoded data removed]",
      "text/plain": [
       "<Figure size 1080x864 with 14 Axes>"
      ]
     },
     "metadata": {
      "needs_background": "light"
     },
     "output_type": "display_data"
    }
   ],
   "source": [
    "plt.figure(figsize=(15,12))\n",
    "\n",
    "for i in range(0, len(nums)):\n",
    "    plt.subplot(6,3,i+1)\n",
    "    sns.boxplot(y=df[nums[i]])\n",
    "    plt.xlabel(nums[i])\n",
    "plt.suptitle('Outlier', fontsize=25)\n",
    "plt.tight_layout()"
   ]
  },
  {
   "cell_type": "markdown",
   "id": "b9168cf2-4197-484c-b7d6-d9de00ba308f",
   "metadata": {},
   "source": [
    "Now if we look at the boxplot, we can see there are outliers in every numerical features. We can handle it using Z-score or IQR.</br>\n",
    "**But**, since we have small size of data we will have 2 results analysis, with and without oultiers. If we look closely, the outliers can still happen in real life and also make sense. For example, 15 order count still make sense in real world. So, later we will have 2 results."
   ]
  },
  {
   "cell_type": "markdown",
   "id": "b5324697-3eb9-4cee-9a4d-0c79a969f29d",
   "metadata": {},
   "source": [
    "## **Multivariate Analysis**"
   ]
  },
  {
   "cell_type": "markdown",
   "id": "45f33891-fde8-4894-a972-f4eeba42e166",
   "metadata": {},
   "source": [
    "Multivariate Analysis is a process to analyze multiple feature at once to find relationships between feature"
   ]
  },
  {
   "cell_type": "markdown",
   "id": "81cfa40d-05aa-4d3e-9f08-7bc226a76477",
   "metadata": {},
   "source": [
    "Here, we will only use the correlation heatmap to see the correlation between features and find any redundant values (if correlation value > 0.7, there is a chance that the feature is redundant)"
   ]
  },
  {
   "cell_type": "code",
   "execution_count": 12,
   "id": "fd09e309-2696-4233-9602-ad0ab8061b66",
   "metadata": {},
   "outputs": [
    {
     "data": {
      "text/plain": [
       "<AxesSubplot:>"
      ]
     },
     "execution_count": 12,
     "metadata": {},
     "output_type": "execute_result"
    },
    {
     "data": {
      "image/png": "[encoded data removed]",
      "text/plain": [
       "<Figure size 1080x720 with 2 Axes>"
      ]
     },
     "metadata": {
      "needs_background": "light"
     },
     "output_type": "display_data"
    }
   ],
   "source": [
    "plt.figure(figsize=(15,10))\n",
    "sns.heatmap(df.corr(),annot=True, cmap='Blues', fmt='.2f')"
   ]
  },
  {
   "cell_type": "markdown",
   "id": "128e937c-41c8-45fa-86af-38a72cf2c0db",
   "metadata": {},
   "source": [
    "As we can see, there is one value that have a chance to be redundant feature. This give us information to drop this feature if our model give a bad result when predicting the data."
   ]
  },
  {
   "cell_type": "markdown",
   "id": "d5311dde-f54c-4184-a4cf-ef7894f95429",
   "metadata": {},
   "source": [
    "I will use the correlation heatmap after I do Data Pre-processing to see if there are any kind of linear correlation with our target that can help us to choose our feature wisely."
   ]
  },
  {
   "cell_type": "markdown",
   "id": "f6d3e6c0-97a0-46dd-ab8b-10bcb84cf73f",
   "metadata": {},
   "source": [
    "## **Data Pre-processing**"
   ]
  },
  {
   "cell_type": "markdown",
   "id": "e1eaab3c-904b-4f8e-b302-8ecb447884e8",
   "metadata": {},
   "source": [
    "After knowing the data, the next step is processing the data so when it is entered into the model it does not produce \"garbage\", remember-- **Garbage in Garbage Out** . The first step to handle is null values, move to duplicate values, redundant (I will try to drop it after see the evaluation score), outliers, encoding, Normalization/Standardization and class imbalance."
   ]
  },
  {
   "cell_type": "markdown",
   "id": "e31a1c83-024c-4439-81c7-b9238b841008",
   "metadata": {},
   "source": [
    "#### 1. Null values"
   ]
  },
  {
   "cell_type": "code",
   "execution_count": 13,
   "id": "0d804f10-16f8-4c9d-b10e-277d2d4a8521",
   "metadata": {},
   "outputs": [
    {
     "data": {
      "text/plain": [
       "Churn                            0\n",
       "Tenure                         264\n",
       "PreferredLoginDevice             0\n",
       "CityTier                         0\n",
       "WarehouseToHome                251\n",
       "PreferredPaymentMode             0\n",
       "Gender                           0\n",
       "HourSpendOnApp                 255\n",
       "NumberOfDeviceRegistered         0\n",
       "PreferedOrderCat                 0\n",
       "SatisfactionScore                0\n",
       "MaritalStatus                    0\n",
       "NumberOfAddress                  0\n",
       "Complain                         0\n",
       "OrderAmountHikeFromlastYear    265\n",
       "CouponUsed                     256\n",
       "OrderCount                     258\n",
       "DaySinceLastOrder              307\n",
       "CashbackAmount                   0\n",
       "dtype: int64"
      ]
     },
     "execution_count": 13,
     "metadata": {},
     "output_type": "execute_result"
    }
   ],
   "source": [
    "df_pre = df.drop(columns=['CustomerID']) # drop irrrelevant feature\n",
    "df_pre.isna().sum()"
   ]
  },
  {
   "cell_type": "markdown",
   "id": "8b548afb-4056-4ca6-a537-3a4ccb67299f",
   "metadata": {},
   "source": [
    "There are 6 numerical and 1 categorical features that have null values. I will fill it with median because the distribution of the data is not normal."
   ]
  },
  {
   "cell_type": "code",
   "execution_count": 14,
   "id": "00981e6f-3821-485c-bd89-e4c796a6f2ab",
   "metadata": {},
   "outputs": [
    {
     "data": {
      "text/plain": [
       "Churn                          0\n",
       "Tenure                         0\n",
       "PreferredLoginDevice           0\n",
       "CityTier                       0\n",
       "WarehouseToHome                0\n",
       "PreferredPaymentMode           0\n",
       "Gender                         0\n",
       "HourSpendOnApp                 0\n",
       "NumberOfDeviceRegistered       0\n",
       "PreferedOrderCat               0\n",
       "SatisfactionScore              0\n",
       "MaritalStatus                  0\n",
       "NumberOfAddress                0\n",
       "Complain                       0\n",
       "OrderAmountHikeFromlastYear    0\n",
       "CouponUsed                     0\n",
       "OrderCount                     0\n",
       "DaySinceLastOrder              0\n",
       "CashbackAmount                 0\n",
       "dtype: int64"
      ]
     },
     "execution_count": 14,
     "metadata": {},
     "output_type": "execute_result"
    }
   ],
   "source": [
    "df_pre['Tenure'].fillna(value=df_pre['Tenure'].median(), inplace=True)\n",
    "df_pre['WarehouseToHome'].fillna(value=df_pre['WarehouseToHome'].median(), inplace=True)\n",
    "df_pre['HourSpendOnApp'].fillna(value=df_pre['HourSpendOnApp'].mode()[0], inplace=True)\n",
    "df_pre['OrderAmountHikeFromlastYear'].fillna(value=df_pre['OrderAmountHikeFromlastYear'].median(), inplace=True)\n",
    "df_pre['CouponUsed'].fillna(value=df_pre['CouponUsed'].median(), inplace=True)\n",
    "df_pre['OrderCount'].fillna(value=df_pre['OrderCount'].median(), inplace=True)\n",
    "df_pre['DaySinceLastOrder'].fillna(value=df_pre['DaySinceLastOrder'].median(), inplace=True)\n",
    "df_pre.isna().sum()"
   ]
  },
  {
   "cell_type": "markdown",
   "id": "de9f979c-f5c5-458b-8fe4-2ea364da5a24",
   "metadata": {},
   "source": [
    "The null value already gone. Now let's check duplicated data"
   ]
  },
  {
   "cell_type": "markdown",
   "id": "0d6edd04-45d6-4b68-b75d-623f6386c733",
   "metadata": {},
   "source": [
    "#### 2. Duplicated Data"
   ]
  },
  {
   "cell_type": "markdown",
   "id": "fb723f80-38b4-431b-98cf-a4379583e748",
   "metadata": {},
   "source": [
    "Duplicated data will impact our model. So, we can drop this duplicated data using drop_duplicates function.</br>\n",
    "We can check first using .duplicated().sum() function."
   ]
  },
  {
   "cell_type": "code",
   "execution_count": 15,
   "id": "200a2fc8-e1f0-4a77-8e73-0236613dab53",
   "metadata": {},
   "outputs": [
    {
     "data": {
      "text/plain": [
       "558"
      ]
     },
     "execution_count": 15,
     "metadata": {},
     "output_type": "execute_result"
    }
   ],
   "source": [
    "df_pre.duplicated().sum()"
   ]
  },
  {
   "cell_type": "markdown",
   "id": "0a602dca-cbdc-4c8c-a7d3-a74d6d54a293",
   "metadata": {},
   "source": [
    "As we can see here, there is 558 duplicate value."
   ]
  },
  {
   "cell_type": "code",
   "execution_count": 16,
   "id": "a87a00ad-df8b-4bbd-a721-2bdcbd849497",
   "metadata": {},
   "outputs": [
    {
     "data": {
      "text/plain": [
       "0"
      ]
     },
     "execution_count": 16,
     "metadata": {},
     "output_type": "execute_result"
    }
   ],
   "source": [
    "df_pre.drop_duplicates(inplace=True)\n",
    "df_pre.duplicated().sum()"
   ]
  },
  {
   "cell_type": "markdown",
   "id": "36ee41dd-d648-466c-ae83-14c2ed6c720a",
   "metadata": {},
   "source": [
    "Duplicated Data already gone..."
   ]
  },
  {
   "cell_type": "markdown",
   "id": "11d34589-176f-43c7-ae1d-15f600c91bdf",
   "metadata": {},
   "source": [
    "#### 3. Outliers"
   ]
  },
  {
   "cell_type": "markdown",
   "id": "b2978e99-e822-4cd1-9c1a-a802d8e8adec",
   "metadata": {},
   "source": [
    "Outliers sometimes impact our machine learning model from learning our data because it has unusual (much different range value) value than other value. Recall from our univariate analysis using boxplot, there is a lot of features that have outliers. </br>\n",
    "As I had explain in EDA step, we will have 2 kind of result, with and without outliers. "
   ]
  },
  {
   "cell_type": "code",
   "execution_count": 17,
   "id": "49fd5d78-16b7-410d-8e77-b1dc2f089c0b",
   "metadata": {},
   "outputs": [
    {
     "data": {
      "text/plain": [
       "Index(['Tenure', 'WarehouseToHome', 'NumberOfAddress',\n",
       "       'OrderAmountHikeFromlastYear', 'CouponUsed', 'OrderCount',\n",
       "       'DaySinceLastOrder', 'CashbackAmount'],\n",
       "      dtype='object')"
      ]
     },
     "execution_count": 17,
     "metadata": {},
     "output_type": "execute_result"
    }
   ],
   "source": [
    "#dropping categorical value that have numeric dtytpe\n",
    "nums = nums.drop(['Churn','CityTier','HourSpendOnApp','NumberOfDeviceRegistered','SatisfactionScore','Complain'])\n",
    "nums"
   ]
  },
  {
   "cell_type": "markdown",
   "id": "136c9a9c-e658-4153-8ce1-64af24d2777f",
   "metadata": {},
   "source": [
    "Before dropping the outliers, I drop all categorical feature that have integer data type. It is because for categorical feature, there is **no concept of outliers**."
   ]
  },
  {
   "cell_type": "code",
   "execution_count": 18,
   "id": "edde02b1-2716-4aea-b286-486585a8e272",
   "metadata": {},
   "outputs": [
    {
     "name": "stdout",
     "output_type": "stream",
     "text": [
      "Before:  5072\n",
      "After:  3805\n"
     ]
    }
   ],
   "source": [
    "print('Before: ', len(df_pre))\n",
    "feature_check = np.array([True]*len(df_pre))\n",
    "\n",
    "for i in nums:\n",
    "    Q1 = df_pre[i].quantile(0.25)\n",
    "    Q3 = df_pre[i].quantile(0.75)\n",
    "    IQR = Q3-Q1\n",
    "    low_limit = Q1-(1.5*IQR)\n",
    "    high_limit = Q3+(1.5*IQR)\n",
    "    feature_check = ((df_pre[i] >= low_limit) & (df_pre[i] <= high_limit)) & feature_check\n",
    "\n",
    "df_pre_drop = df_pre[feature_check]\n",
    "print('After: ', len(df_pre_drop))"
   ]
  },
  {
   "cell_type": "markdown",
   "id": "f79c6280-3c1f-491c-b361-a308e9ddb77d",
   "metadata": {},
   "source": [
    "Now, we have 2 kind of data, df_pre = with outliers and df_pre_drop = without outliers"
   ]
  },
  {
   "cell_type": "markdown",
   "id": "cf91689d-94e2-4606-bcfc-93442671d416",
   "metadata": {},
   "source": [
    "#### 4. Changing few categorical feature"
   ]
  },
  {
   "cell_type": "markdown",
   "id": "e371c847-efa8-4ca4-aba3-c3d55f03fafa",
   "metadata": {},
   "source": [
    "Recall that there are several values that have the same meaning, like this:"
   ]
  },
  {
   "cell_type": "code",
   "execution_count": 19,
   "id": "ddc4bc24-ceb0-4a29-94fb-a52b694f01e8",
   "metadata": {},
   "outputs": [
    {
     "data": {
      "text/plain": [
       "Debit Card          2098\n",
       "Credit Card         1348\n",
       "E wallet             562\n",
       "UPI                  360\n",
       "COD                  322\n",
       "CC                   248\n",
       "Cash on Delivery     134\n",
       "Name: PreferredPaymentMode, dtype: int64"
      ]
     },
     "execution_count": 19,
     "metadata": {},
     "output_type": "execute_result"
    }
   ],
   "source": [
    "df_pre['PreferredPaymentMode'].value_counts()"
   ]
  },
  {
   "cell_type": "markdown",
   "id": "37144641-fa1c-44c8-bc64-99f8417023e1",
   "metadata": {},
   "source": [
    "I will handle this error by choosing one value and replacing the redundant value with it."
   ]
  },
  {
   "cell_type": "code",
   "execution_count": 20,
   "id": "5e6d9c43-4bb5-491b-9f1e-3df43c5cb5a5",
   "metadata": {},
   "outputs": [],
   "source": [
    "# Data With outliers\n",
    "df_pre['PreferredPaymentMode'] = df_pre['PreferredPaymentMode'].replace(['COD','CC'],['Cash on Delivery','Credit Card'])\n",
    "df_pre['PreferredLoginDevice'] = df_pre['PreferredLoginDevice'].replace('Phone','Mobile Phone')\n",
    "df_pre['PreferedOrderCat'] = df_pre['PreferedOrderCat'].replace('Mobile','Mobile Phone')\n",
    "\n",
    "# Data Without outliers\n",
    "df_pre_drop['PreferredPaymentMode'] = df_pre_drop['PreferredPaymentMode'].replace(['COD','CC'],['Cash on Delivery','Credit Card'])\n",
    "df_pre_drop['PreferredLoginDevice'] = df_pre_drop['PreferredLoginDevice'].replace('Phone','Mobile Phone')\n",
    "df_pre_drop['PreferedOrderCat'] = df_pre_drop['PreferedOrderCat'].replace('Mobile','Mobile Phone')"
   ]
  },
  {
   "cell_type": "code",
   "execution_count": 21,
   "id": "368cf4bd-38cb-412b-92b5-911a0909dd1f",
   "metadata": {},
   "outputs": [
    {
     "data": {
      "text/plain": [
       "Debit Card          2098\n",
       "Credit Card         1596\n",
       "E wallet             562\n",
       "Cash on Delivery     456\n",
       "UPI                  360\n",
       "Name: PreferredPaymentMode, dtype: int64"
      ]
     },
     "execution_count": 21,
     "metadata": {},
     "output_type": "execute_result"
    }
   ],
   "source": [
    "df_pre['PreferredPaymentMode'].value_counts()"
   ]
  },
  {
   "cell_type": "markdown",
   "id": "e1f4cee6-1584-4c1c-8f63-2269e9cac87a",
   "metadata": {},
   "source": [
    "Now we have reduced all value of the categorical features. Let's move on to Feature Encoding."
   ]
  },
  {
   "cell_type": "markdown",
   "id": "e636d264-667e-4a68-9cca-7e6b26b2a38f",
   "metadata": {},
   "source": [
    "#### 5. Feature Encoding"
   ]
  },
  {
   "cell_type": "markdown",
   "id": "96124793-8ce2-4991-ae53-72f51b8f946c",
   "metadata": {},
   "source": [
    "Changing all categorical feature to numeric so machine can easily learn the pattern. I will use label encoding and One-hot encoding. I use this 2 encoding funtion, Label encoding used if there are only 2 **unique** values in one feature. Otherwise, we use One-hot encoding."
   ]
  },
  {
   "cell_type": "code",
   "execution_count": 22,
   "id": "944f48ca-da15-4e94-936a-e69f679cf7e5",
   "metadata": {},
   "outputs": [
    {
     "data": {
      "text/plain": [
       "Married     2672\n",
       "Single      1552\n",
       "Divorced     848\n",
       "Name: MaritalStatus, dtype: int64"
      ]
     },
     "execution_count": 22,
     "metadata": {},
     "output_type": "execute_result"
    }
   ],
   "source": [
    "df_pre['MaritalStatus'].value_counts()"
   ]
  },
  {
   "cell_type": "code",
   "execution_count": 23,
   "id": "20d40e24-8e89-45ab-9ec9-2e54d433bfc3",
   "metadata": {},
   "outputs": [],
   "source": [
    "# Data With outliers\n",
    "df_pre['Gender'] = df_pre[\"Gender\"].astype('category').cat.codes\n",
    "df_pre['PreferredLoginDevice'] = df_pre[\"PreferredLoginDevice\"].astype('category').cat.codes\n",
    "dummy_PreferredPaymentMode = pd.get_dummies(df_pre['PreferredPaymentMode'], prefix='is')\n",
    "dummy_PreferedOrderCat = pd.get_dummies(df_pre['PreferedOrderCat'], prefix='is')\n",
    "dummy_MaritalStatus = pd.get_dummies(df_pre['MaritalStatus'], prefix='is')\n",
    "df_pre = df_pre.join(dummy_PreferredPaymentMode)\n",
    "df_pre = df_pre.join(dummy_PreferedOrderCat)\n",
    "df_pre = df_pre.join(dummy_MaritalStatus)\n",
    "\n",
    "# Data Without outliers\n",
    "df_pre_drop['Gender'] = df_pre_drop[\"Gender\"].astype('category').cat.codes\n",
    "df_pre_drop['PreferredLoginDevice'] = df_pre_drop[\"PreferredLoginDevice\"].astype('category').cat.codes\n",
    "dummy_PreferredPaymentMode_drop = pd.get_dummies(df_pre_drop['PreferredPaymentMode'], prefix='is')\n",
    "dummy_PreferedOrderCat_drop = pd.get_dummies(df_pre_drop['PreferedOrderCat'], prefix='is')\n",
    "dummy_MaritalStatus_drop = pd.get_dummies(df_pre_drop['MaritalStatus'], prefix='is')\n",
    "df_pre_drop = df_pre_drop.join(dummy_PreferredPaymentMode_drop)\n",
    "df_pre_drop = df_pre_drop.join(dummy_PreferedOrderCat_drop)\n",
    "df_pre_drop = df_pre_drop.join(dummy_MaritalStatus_drop)"
   ]
  },
  {
   "cell_type": "code",
   "execution_count": 24,
   "id": "7999dab6-979f-4c4b-aad2-e8cf9b324e73",
   "metadata": {},
   "outputs": [],
   "source": [
    "df_pre.drop(columns=['PreferredLoginDevice','Gender','PreferredPaymentMode','PreferedOrderCat','MaritalStatus'], inplace=True)\n",
    "df_pre_drop.drop(columns=['PreferredLoginDevice','Gender','PreferredPaymentMode','PreferedOrderCat','MaritalStatus'], inplace=True)"
   ]
  },
  {
   "cell_type": "markdown",
   "id": "e492ba1c-ffdc-4a7f-aeae-77f82791df04",
   "metadata": {},
   "source": [
    "#### 6. Normalization/Standardization"
   ]
  },
  {
   "cell_type": "markdown",
   "id": "b42efa68-b726-4a00-b9fc-2074accd2543",
   "metadata": {},
   "source": [
    "I only use Normalization because the data distribution doesn't have Gaussian distribution (not normal)."
   ]
  },
  {
   "cell_type": "code",
   "execution_count": 25,
   "id": "d6bf60a5-c0b4-4857-9292-3d21bce3b572",
   "metadata": {},
   "outputs": [],
   "source": [
    "from sklearn.preprocessing import MinMaxScaler\n",
    "\n",
    "for i in nums:\n",
    "    df_pre[i+'_Norm'] = MinMaxScaler().fit_transform(df_pre[i].values.reshape(len(df_pre),1))\n",
    "    df_pre_drop[i+'_Norm'] = MinMaxScaler().fit_transform(df_pre_drop[i].values.reshape(len(df_pre_drop),1))"
   ]
  },
  {
   "cell_type": "code",
   "execution_count": 26,
   "id": "a55b0ab7-1421-4f47-902d-ec28d03cda07",
   "metadata": {},
   "outputs": [
    {
     "data": {
      "text/plain": [
       "Index(['Churn', 'CityTier', 'HourSpendOnApp', 'NumberOfDeviceRegistered',\n",
       "       'SatisfactionScore', 'Complain', 'is_Cash on Delivery',\n",
       "       'is_Credit Card', 'is_Debit Card', 'is_E wallet', 'is_UPI',\n",
       "       'is_Fashion', 'is_Grocery', 'is_Laptop & Accessory', 'is_Mobile Phone',\n",
       "       'is_Others', 'is_Divorced', 'is_Married', 'is_Single', 'Tenure_Norm',\n",
       "       'WarehouseToHome_Norm', 'NumberOfAddress_Norm',\n",
       "       'OrderAmountHikeFromlastYear_Norm', 'CouponUsed_Norm',\n",
       "       'OrderCount_Norm', 'DaySinceLastOrder_Norm', 'CashbackAmount_Norm'],\n",
       "      dtype='object')"
      ]
     },
     "execution_count": 26,
     "metadata": {},
     "output_type": "execute_result"
    }
   ],
   "source": [
    "#drop the unused columns\n",
    "df_pre.drop(columns=list(nums), inplace=True) \n",
    "df_pre_drop.drop(columns=list(nums), inplace=True)\n",
    "df_pre.columns"
   ]
  },
  {
   "cell_type": "markdown",
   "id": "bec51f8d-23a0-4e6a-860d-5f23c4e5e0d4",
   "metadata": {},
   "source": [
    "#### 7. Class Imbalance"
   ]
  },
  {
   "cell_type": "markdown",
   "id": "980fb97e-ac3b-4546-945c-ffdb21949207",
   "metadata": {},
   "source": [
    "Recall when we check our target, there is a class imbalance. We can fix this using *over_sampling* tools "
   ]
  },
  {
   "cell_type": "code",
   "execution_count": 27,
   "id": "1129f36c-d0ae-481e-bc00-741ab426fa85",
   "metadata": {},
   "outputs": [
    {
     "name": "stdout",
     "output_type": "stream",
     "text": [
      "Check data with Outliers:\n",
      " 0    4231\n",
      "1    4231\n",
      "dtype: int64\n",
      "Check data without Outliers:\n",
      " 0    3139\n",
      "1    3139\n",
      "dtype: int64\n"
     ]
    }
   ],
   "source": [
    "from imblearn import over_sampling\n",
    "\n",
    "X = df_pre.drop(columns=['Churn']) # I try not to drop column to see if there are any impact on my model\n",
    "y = df_pre['Churn'].values\n",
    "\n",
    "X_drop = df_pre_drop.drop(columns=['Churn'])\n",
    "y_drop = df_pre_drop['Churn'].values\n",
    "\n",
    "X_Rsampler, y_Rsampler = over_sampling.RandomOverSampler(random_state=18).fit_resample(X,y)\n",
    "X_drop_Rsampler, y_drop_Rsampler = over_sampling.RandomOverSampler(random_state=18).fit_resample(X_drop,y_drop)\n",
    "print('Check data with Outliers:\\n',pd.Series(y_Rsampler).value_counts())\n",
    "print('Check data without Outliers:\\n',pd.Series(y_drop_Rsampler).value_counts())"
   ]
  },
  {
   "cell_type": "markdown",
   "id": "75a98433-7786-4100-a97b-21ccffa441c8",
   "metadata": {},
   "source": [
    "Now, we have balance target. Let's try to build our model"
   ]
  },
  {
   "cell_type": "markdown",
   "id": "5fd283a0-90f6-4d32-afdc-80ebe951c7ea",
   "metadata": {},
   "source": [
    "## **Train Model**"
   ]
  },
  {
   "cell_type": "code",
   "execution_count": 28,
   "id": "07696cae-3169-4e58-9041-748a29a6bffe",
   "metadata": {},
   "outputs": [],
   "source": [
    "from sklearn.model_selection import train_test_split\n",
    "from sklearn.metrics import accuracy_score, precision_score, recall_score\n",
    "\n",
    "def model_validation(X_train, y_train, X_test, y_true,y_pred, model):\n",
    "    print('Accuracy Score: {:.2f}'.format(accuracy_score(y_true,y_pred)))\n",
    "    print('Precision Score: {:.2f}'.format(precision_score(y_true,y_pred)))\n",
    "    print('Recall Score: {:.2f}'.format(recall_score(y_true,y_pred)))\n",
    "    print('Train Score: {:.2f}'.format(model.score(X_train, y_train)))\n",
    "    print('Test Score: {:.2f}'.format(model.score(X_test, y_true)))"
   ]
  },
  {
   "cell_type": "code",
   "execution_count": 29,
   "id": "dc8f8ac0-fa91-4b14-bdd2-73c99a75775d",
   "metadata": {},
   "outputs": [
    {
     "name": "stdout",
     "output_type": "stream",
     "text": [
      "Train with outlier:  5923\n",
      "Train without outlier:  4394\n",
      "Test with outlier:  2539\n",
      "Test without outlier:  1884\n"
     ]
    }
   ],
   "source": [
    "from sklearn.model_selection import train_test_split, RandomizedSearchCV\n",
    "\n",
    "X_train, X_test, y_train, y_test = train_test_split(X_Rsampler, y_Rsampler, test_size=0.3, random_state=18)\n",
    "X_drop_train, X_drop_test, y_drop_train, y_drop_test = train_test_split(X_drop_Rsampler, y_drop_Rsampler, test_size=0.3, random_state=18)\n",
    "print('Train with outlier: ', len(y_train))\n",
    "print('Train without outlier: ', len(y_drop_train))\n",
    "print('Test with outlier: ', len(y_test))\n",
    "print('Test without outlier: ', len(y_drop_test))"
   ]
  },
  {
   "cell_type": "markdown",
   "id": "21d1695e-fb78-44c2-b008-7af264f40990",
   "metadata": {},
   "source": [
    "Even though our data shows no linear relationship when we use heatmap, we will still use Logistic Regression as baseline. "
   ]
  },
  {
   "cell_type": "markdown",
   "id": "181a7ec7-f9d1-435c-b7fd-c7a1d77d4bcf",
   "metadata": {},
   "source": [
    "### **Logistic Regression**"
   ]
  },
  {
   "cell_type": "markdown",
   "id": "1ba80748-8d60-4658-8c2d-c5b32d71f508",
   "metadata": {},
   "source": [
    "##### With Outliers"
   ]
  },
  {
   "cell_type": "code",
   "execution_count": 30,
   "id": "80b3cf52-0a34-4ffd-ba56-d84dc392030a",
   "metadata": {},
   "outputs": [
    {
     "name": "stdout",
     "output_type": "stream",
     "text": [
      "Accuracy Score: 0.80\n",
      "Precision Score: 0.80\n",
      "Recall Score: 0.80\n",
      "Train Score: 0.81\n",
      "Test Score: 0.80\n"
     ]
    }
   ],
   "source": [
    "from sklearn.linear_model import LogisticRegression\n",
    "\n",
    "lr_model = LogisticRegression()\n",
    "lr_model.fit(X_train,y_train)\n",
    "\n",
    "y_pred = lr_model.predict(X_test)\n",
    "model_validation(X_train, y_train, X_test, y_test, y_pred, lr_model)"
   ]
  },
  {
   "cell_type": "markdown",
   "id": "beebe7f6-7dfb-4ff2-a0aa-2c86bb0bb6a0",
   "metadata": {},
   "source": [
    "##### Without Outliers"
   ]
  },
  {
   "cell_type": "code",
   "execution_count": 31,
   "id": "86eb6aa6-a313-439b-8554-2505f779aaa7",
   "metadata": {},
   "outputs": [
    {
     "name": "stdout",
     "output_type": "stream",
     "text": [
      "Accuracy Score: 0.83\n",
      "Precision Score: 0.84\n",
      "Recall Score: 0.82\n",
      "Train Score: 0.81\n",
      "Test Score: 0.83\n"
     ]
    }
   ],
   "source": [
    "lr_model.fit(X_drop_train, y_drop_train)\n",
    "\n",
    "y_drop_pred = lr_model.predict(X_drop_test)\n",
    "model_validation(X_drop_train, y_drop_train, X_drop_test, y_drop_test, y_drop_pred, lr_model)"
   ]
  },
  {
   "cell_type": "markdown",
   "id": "5621da9f-354a-4d1c-8a32-30d6514a5103",
   "metadata": {},
   "source": [
    "As we can see from the result above, data with outliers shows no signs of underfitting, while data without outliers show signs of underfitting (test score > train score). I will try use hyperparameter tuning to see if this case still happend."
   ]
  },
  {
   "cell_type": "markdown",
   "id": "5ab8ab75-72e8-4b75-bffe-907cc1a977cc",
   "metadata": {},
   "source": [
    "#### Hyperparameter Tuning"
   ]
  },
  {
   "cell_type": "markdown",
   "id": "c6247b86-acd1-41ae-8f69-af17d162281a",
   "metadata": {},
   "source": [
    "##### With Outliers"
   ]
  },
  {
   "cell_type": "code",
   "execution_count": 32,
   "id": "c366aa90-b311-440a-91e2-17e153633fc6",
   "metadata": {},
   "outputs": [
    {
     "name": "stdout",
     "output_type": "stream",
     "text": [
      "Accuracy Score: 0.60\n",
      "Precision Score: 0.56\n",
      "Recall Score: 0.93\n",
      "Train Score: 0.94\n",
      "Test Score: 0.93\n"
     ]
    }
   ],
   "source": [
    "penalty = ['l1','l2','elasticnet']\n",
    "C = [0.0001, 0.001, 0.002]\n",
    "solver = ['newton-cg', 'lbfgs', 'liblinear', 'sag', 'saga']\n",
    "hyperparameters = dict(penalty = penalty, C=C, solver=solver)\n",
    "\n",
    "lr_model_tuning = LogisticRegression()\n",
    "best_model_lr = RandomizedSearchCV(lr_model_tuning, hyperparameters, cv=5, random_state=18, scoring='recall')\n",
    "best_model_lr.fit(X_train,y_train)\n",
    "\n",
    "y_pred_tuning = best_model_lr.predict(X_test)\n",
    "model_validation(X_train, y_train, X_test, y_test, y_pred_tuning, best_model_lr)"
   ]
  },
  {
   "cell_type": "markdown",
   "id": "ab0162ca-2020-407a-abc4-53653113b9ae",
   "metadata": {},
   "source": [
    "##### Without Outliers"
   ]
  },
  {
   "cell_type": "code",
   "execution_count": 33,
   "id": "1d80bbd6-b0b3-4b39-8607-30ac43337e00",
   "metadata": {},
   "outputs": [
    {
     "name": "stdout",
     "output_type": "stream",
     "text": [
      "Accuracy Score: 0.60\n",
      "Precision Score: 0.56\n",
      "Recall Score: 0.96\n",
      "Train Score: 0.96\n",
      "Test Score: 0.96\n"
     ]
    }
   ],
   "source": [
    "best_model_lr.fit(X_drop_train, y_drop_train)\n",
    "\n",
    "y_drop_pred_tuning = best_model_lr.predict(X_drop_test)\n",
    "model_validation(X_drop_train, y_drop_train, X_drop_test, y_drop_test, y_drop_pred_tuning, best_model_lr)"
   ]
  },
  {
   "cell_type": "code",
   "execution_count": 34,
   "id": "e5dd9140-d9b2-4624-9ace-8783c7f3bba5",
   "metadata": {},
   "outputs": [
    {
     "name": "stdout",
     "output_type": "stream",
     "text": [
      "{'solver': 'liblinear', 'penalty': 'l2', 'C': 0.0001}\n"
     ]
    }
   ],
   "source": [
    "print(best_model_lr.best_params_) #print the best hyperparaameter for this model"
   ]
  },
  {
   "cell_type": "markdown",
   "id": "774ff634-b578-45cb-b9fc-ca5abf96a736",
   "metadata": {},
   "source": [
    "Now, we get our baseline. Let's try another model."
   ]
  },
  {
   "cell_type": "markdown",
   "id": "3611133f-d97e-41a1-91ee-f1aa6fe59a18",
   "metadata": {},
   "source": [
    "### **KNN**"
   ]
  },
  {
   "cell_type": "markdown",
   "id": "1b96cdea-8f3e-4e70-8855-cd5834210ead",
   "metadata": {},
   "source": [
    "One of the simplest algorithms to perform classification"
   ]
  },
  {
   "cell_type": "markdown",
   "id": "650e8692-9120-4c79-8e18-d38a11b1baa5",
   "metadata": {},
   "source": [
    "##### With Outliers"
   ]
  },
  {
   "cell_type": "code",
   "execution_count": 35,
   "id": "09aac7e6-6e39-4710-bcd4-b4da8cbd4c51",
   "metadata": {},
   "outputs": [
    {
     "name": "stdout",
     "output_type": "stream",
     "text": [
      "Accuracy Score: 0.86\n",
      "Precision Score: 0.82\n",
      "Recall Score: 0.94\n",
      "Train Score: 0.92\n",
      "Test Score: 0.86\n"
     ]
    }
   ],
   "source": [
    "from sklearn.neighbors import KNeighborsClassifier\n",
    "\n",
    "knn_model = KNeighborsClassifier()\n",
    "knn_model.fit(X_train, y_train)\n",
    "\n",
    "y_pred_knn = knn_model.predict(X_test)\n",
    "model_validation(X_train, y_train, X_test, y_test, y_pred_knn, knn_model)"
   ]
  },
  {
   "cell_type": "markdown",
   "id": "02500a28-074f-4ec6-bd26-6355327a1bea",
   "metadata": {},
   "source": [
    "##### Without Outliers"
   ]
  },
  {
   "cell_type": "code",
   "execution_count": 36,
   "id": "ec9eba29-418d-4390-bd5e-27ba4b82dd81",
   "metadata": {},
   "outputs": [
    {
     "name": "stdout",
     "output_type": "stream",
     "text": [
      "Accuracy Score: 0.86\n",
      "Precision Score: 0.81\n",
      "Recall Score: 0.96\n",
      "Train Score: 0.92\n",
      "Test Score: 0.86\n"
     ]
    }
   ],
   "source": [
    "knn_model.fit(X_drop_train, y_drop_train)\n",
    "\n",
    "y_drop_pred_knn = knn_model.predict(X_drop_test)\n",
    "model_validation(X_drop_train, y_drop_train, X_drop_test, y_drop_test, y_drop_pred_knn, knn_model)"
   ]
  },
  {
   "cell_type": "markdown",
   "id": "fae0fb17-9d93-4975-aa7f-63b9832006a3",
   "metadata": {},
   "source": [
    "Both of the model seems overfitting, we should try tuning the hyperparameter"
   ]
  },
  {
   "cell_type": "markdown",
   "id": "73b293cb-8206-4acf-a3b0-47cba5ba1f88",
   "metadata": {},
   "source": [
    "#### Hyperparameter Tuning"
   ]
  },
  {
   "cell_type": "markdown",
   "id": "ed9b7b59-3831-4876-ba67-bc2e29f71c06",
   "metadata": {},
   "source": [
    "##### With Outliers"
   ]
  },
  {
   "cell_type": "code",
   "execution_count": 37,
   "id": "532899ef-7de1-4ada-9622-ea91184b958d",
   "metadata": {},
   "outputs": [
    {
     "name": "stdout",
     "output_type": "stream",
     "text": [
      "Accuracy Score: 0.90\n",
      "Precision Score: 0.86\n",
      "Recall Score: 0.97\n",
      "Train Score: 0.99\n",
      "Test Score: 0.97\n"
     ]
    }
   ],
   "source": [
    "n_neighbors = list(range(1,30))\n",
    "p = [1,2]\n",
    "algorithm = ['auto', 'ball_tree', 'kd_tree', 'brute']\n",
    "hyperparameter = dict(n_neighbors=n_neighbors, p=p, algorithm=algorithm)\n",
    "\n",
    "knn_model_tuning = KNeighborsClassifier()\n",
    "best_model_knn = RandomizedSearchCV(knn_model_tuning, hyperparameter, cv=5, random_state=18, scoring='recall')\n",
    "best_model_knn.fit(X_train, y_train)\n",
    "\n",
    "y_pred_knn_tuning = best_model_knn.predict(X_test)\n",
    "model_validation(X_train, y_train, X_test, y_test, y_pred_knn_tuning, best_model_knn)"
   ]
  },
  {
   "cell_type": "markdown",
   "id": "3101102a-2663-4911-aa41-78c6af0554d1",
   "metadata": {},
   "source": [
    "##### Without Outliers"
   ]
  },
  {
   "cell_type": "code",
   "execution_count": 38,
   "id": "280373ca-1f2f-46ac-bfa9-be5f2941a3d4",
   "metadata": {},
   "outputs": [
    {
     "name": "stdout",
     "output_type": "stream",
     "text": [
      "Accuracy Score: 0.89\n",
      "Precision Score: 0.84\n",
      "Recall Score: 0.98\n",
      "Train Score: 0.99\n",
      "Test Score: 0.98\n"
     ]
    }
   ],
   "source": [
    "best_model_knn.fit(X_drop_train, y_drop_train)\n",
    "\n",
    "y_drop_pred_knn_tuning = best_model_knn.predict(X_drop_test)\n",
    "model_validation(X_drop_train, y_drop_train, X_drop_test, y_drop_test, y_drop_pred_knn_tuning, best_model_knn)"
   ]
  },
  {
   "cell_type": "markdown",
   "id": "fc437738-3b6f-4468-9867-dcf0f6435eb6",
   "metadata": {},
   "source": [
    "KNN model already give us the best model, so far..."
   ]
  },
  {
   "cell_type": "markdown",
   "id": "12acffa0-84c0-4789-8bd3-2b8282ba95db",
   "metadata": {},
   "source": [
    "Let's try our last basic and interpretable classification model, Decision Tree"
   ]
  },
  {
   "cell_type": "markdown",
   "id": "b800e3a3-4695-4f87-a8ca-b86488cd7cde",
   "metadata": {},
   "source": [
    "### **Decision Tree**"
   ]
  },
  {
   "cell_type": "markdown",
   "id": "7adcb34d-3780-40c5-ba78-7fa35b8818ac",
   "metadata": {},
   "source": [
    "With Outliers"
   ]
  },
  {
   "cell_type": "code",
   "execution_count": 39,
   "id": "4a9e704c-351c-4c05-8111-5ff5464be3c1",
   "metadata": {},
   "outputs": [
    {
     "name": "stdout",
     "output_type": "stream",
     "text": [
      "Accuracy Score: 0.98\n",
      "Precision Score: 0.96\n",
      "Recall Score: 1.00\n",
      "Train Score: 1.00\n",
      "Test Score: 0.98\n"
     ]
    }
   ],
   "source": [
    "from sklearn.tree import DecisionTreeClassifier\n",
    "\n",
    "dt_model = DecisionTreeClassifier()\n",
    "dt_model.fit(X_train, y_train)\n",
    "\n",
    "y_pred_knn = dt_model.predict(X_test)\n",
    "model_validation(X_train, y_train, X_test, y_test, y_pred_knn, dt_model)"
   ]
  },
  {
   "cell_type": "markdown",
   "id": "1199d46a-90c2-4daf-86c1-36b4e1835894",
   "metadata": {},
   "source": [
    "Without Outliers"
   ]
  },
  {
   "cell_type": "code",
   "execution_count": 40,
   "id": "e4448bc5-8b2d-4e4b-b08a-5dc7bef6e0b5",
   "metadata": {},
   "outputs": [
    {
     "name": "stdout",
     "output_type": "stream",
     "text": [
      "Accuracy Score: 0.98\n",
      "Precision Score: 0.96\n",
      "Recall Score: 0.99\n",
      "Train Score: 1.00\n",
      "Test Score: 0.98\n"
     ]
    }
   ],
   "source": [
    "dt_model.fit(X_drop_train, y_drop_train)\n",
    "\n",
    "y_drop_pred_knn = dt_model.predict(X_drop_test)\n",
    "model_validation(X_drop_train, y_drop_train, X_drop_test, y_drop_test, y_drop_pred_knn, dt_model)"
   ]
  },
  {
   "cell_type": "markdown",
   "id": "9a122b66-2f5e-4596-999d-facf4d7ec2c3",
   "metadata": {},
   "source": [
    "Both model seems good, try hyperparameter to find the best model result."
   ]
  },
  {
   "cell_type": "markdown",
   "id": "67e7de2f-f9b6-4eaf-8261-b28565776233",
   "metadata": {},
   "source": [
    "#### Hyperparameter Tuning"
   ]
  },
  {
   "cell_type": "markdown",
   "id": "37eb30b1-0952-498a-8fe0-fceea23b714c",
   "metadata": {},
   "source": [
    "With outliers"
   ]
  },
  {
   "cell_type": "code",
   "execution_count": 48,
   "id": "bb77baa6-258c-4b75-bb03-7d029e8996a5",
   "metadata": {},
   "outputs": [
    {
     "name": "stdout",
     "output_type": "stream",
     "text": [
      "Accuracy Score: 0.97\n",
      "Precision Score: 0.96\n",
      "Recall Score: 0.99\n",
      "Train Score: 1.00\n",
      "Test Score: 0.99\n"
     ]
    }
   ],
   "source": [
    "criterion = ['gini','entropy']\n",
    "splitter = ['best', 'random']\n",
    "max_depth = [int(x) for x in np.linspace(1,150, num=30)]\n",
    "min_samples_split = [2,5,10,25,50,75,100]\n",
    "min_samples_leaf = [1,5,10,25,50]\n",
    "hyperparameter = dict(criterion=criterion, splitter=splitter,max_depth=max_depth , min_samples_split=min_samples_split, \n",
    "                      min_samples_leaf=min_samples_leaf)\n",
    "\n",
    "dt_model_tuning = DecisionTreeClassifier()\n",
    "best_model_dt = RandomizedSearchCV(dt_model_tuning, hyperparameter, cv=5, random_state=18, scoring='recall')\n",
    "best_model_dt.fit(X_train, y_train)\n",
    "\n",
    "y_pred_dt_tuning = best_model_dt.predict(X_test)\n",
    "model_validation(X_train, y_train, X_test, y_test, y_pred_dt_tuning, best_model_dt)"
   ]
  },
  {
   "cell_type": "code",
   "execution_count": 49,
   "id": "d48e8c68-8704-4e29-86b9-9cf288edfefd",
   "metadata": {},
   "outputs": [
    {
     "name": "stdout",
     "output_type": "stream",
     "text": [
      "Accuracy Score: 0.97\n",
      "Precision Score: 0.96\n",
      "Recall Score: 0.99\n",
      "Train Score: 1.00\n",
      "Test Score: 0.99\n"
     ]
    }
   ],
   "source": [
    "best_model_dt.fit(X_drop_train, y_drop_train)\n",
    "\n",
    "y_drop_pred_dt_tuning = best_model_dt.predict(X_drop_test)\n",
    "model_validation(X_drop_train, y_drop_train, X_drop_test, y_drop_test, y_drop_pred_dt_tuning, best_model_dt)"
   ]
  },
  {
   "cell_type": "code",
   "execution_count": 50,
   "id": "3a35f9e7-8482-4e0d-a62b-13f664b5294e",
   "metadata": {},
   "outputs": [
    {
     "name": "stdout",
     "output_type": "stream",
     "text": [
      "{'splitter': 'best', 'min_samples_split': 5, 'min_samples_leaf': 1, 'max_depth': 16, 'criterion': 'entropy'}\n"
     ]
    }
   ],
   "source": [
    "print(best_model_dt.best_params_)"
   ]
  },
  {
   "cell_type": "markdown",
   "id": "5349aef3-abea-4991-a205-5184fe5a9847",
   "metadata": {},
   "source": [
    "We don't need to use bagging or boosting method because our model already shows good result."
   ]
  },
  {
   "cell_type": "markdown",
   "id": "33a7144c-57fd-4d7f-88e1-ab064469a7dd",
   "metadata": {},
   "source": [
    "We can use any classification algorithm here. But, we also need to tune the hyperparameter for better result. We can choose the basic or complicated algorithm. For me I will choose Decision Tree because it is easy to interpret the model. Clearly there's something more we can try. But I'll leave it here, thank you for seeing this project."
   ]
  }
 ],
 "metadata": {
  "kernelspec": {
   "display_name": "Python 3",
   "language": "python",
   "name": "python3"
  },
  "language_info": {
   "codemirror_mode": {
    "name": "ipython",
    "version": 3
   },
   "file_extension": ".py",
   "mimetype": "text/x-python",
   "name": "python",
   "nbconvert_exporter": "python",
   "pygments_lexer": "ipython3",
   "version": "3.8.8"
  }
 },
 "nbformat": 4,
 "nbformat_minor": 5
}
